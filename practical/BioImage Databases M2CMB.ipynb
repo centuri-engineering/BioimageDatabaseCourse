{
 "cells": [
  {
   "cell_type": "markdown",
   "metadata": {},
   "source": [
    "\n",
    "\n",
    "\n",
    "# The TIFF file format\n",
    "\n",
    "\n",
    "## Create a tiff in Python with `imageio`\n",
    "\n",
    "- Create an array\n",
    "- Use different data types\n",
    "\n",
    "\n"
   ]
  },
  {
   "cell_type": "code",
   "execution_count": null,
   "metadata": {},
   "outputs": [],
   "source": [
    "import "
   ]
  },
  {
   "cell_type": "markdown",
   "metadata": {},
   "source": [
    "## Open a tiff with `scikit-image`\n",
    "\n",
    "- Re-open the previous tiffs with skimage\n",
    "\n",
    "\n"
   ]
  },
  {
   "cell_type": "code",
   "execution_count": null,
   "metadata": {},
   "outputs": [],
   "source": []
  },
  {
   "cell_type": "markdown",
   "metadata": {},
   "source": [
    "## Open an ome.tiff with `aicsimageio`\n",
    "\n",
    "```bash\n",
    "wget https://downloads.openmicroscopy.org/images/OME-TIFF/2016-06/tubhiswt-4D/tubhiswt_C1_TP42.ome.tif\n",
    "\n",
    "```\n",
    "\n",
    "\n",
    "### Read metadata\n",
    "\n",
    "\n",
    "\n",
    "\n"
   ]
  },
  {
   "cell_type": "code",
   "execution_count": 1,
   "metadata": {
    "scrolled": true
   },
   "outputs": [
    {
     "name": "stdout",
     "output_type": "stream",
     "text": [
      "Collecting aicsimageio\n",
      "  Downloading aicsimageio-3.3.1-py2.py3-none-any.whl (60 kB)\n",
      "\u001b[K     |████████████████████████████████| 60 kB 1.3 MB/s eta 0:00:011\n",
      "\u001b[?25hRequirement already satisfied: tifffile>=2019.7.26.2 in /home/guillaume/miniconda3/envs/omero/lib/python3.6/site-packages (from aicsimageio) (2020.6.3)\n",
      "Requirement already satisfied: imageio>=2.3.0 in /home/guillaume/miniconda3/envs/omero/lib/python3.6/site-packages (from aicsimageio) (2.9.0)\n",
      "Collecting readlif>=0.2.1\n",
      "  Downloading readlif-0.2.1-py3-none-any.whl (19 kB)\n",
      "Requirement already satisfied: dask>=2.9.0 in /home/guillaume/miniconda3/envs/omero/lib/python3.6/site-packages (from aicsimageio) (2.25.0)\n",
      "Collecting lxml>=4.4.2\n",
      "  Downloading lxml-4.5.2-cp36-cp36m-manylinux1_x86_64.whl (5.5 MB)\n",
      "\u001b[K     |████████████████████████████████| 5.5 MB 3.1 MB/s eta 0:00:01\n",
      "\u001b[?25hRequirement already satisfied: numpy>=1.16 in /home/guillaume/miniconda3/envs/omero/lib/python3.6/site-packages (from aicsimageio) (1.19.1)\n",
      "Collecting aicspylibczi>=2.5.0\n",
      "  Downloading aicspylibczi-2.6.0-cp36-cp36m-manylinux2010_x86_64.whl (603 kB)\n",
      "\u001b[K     |████████████████████████████████| 603 kB 3.4 MB/s eta 0:00:01\n",
      "\u001b[?25hRequirement already satisfied: imagecodecs>=2020.2.18 in /home/guillaume/miniconda3/envs/omero/lib/python3.6/site-packages (from aicsimageio) (2020.5.30)\n",
      "Requirement already satisfied: toolz>=0.10.0 in /home/guillaume/miniconda3/envs/omero/lib/python3.6/site-packages (from aicsimageio) (0.10.0)\n",
      "Collecting distributed>=2.9.3\n",
      "  Downloading distributed-2.30.0-py3-none-any.whl (656 kB)\n",
      "\u001b[K     |████████████████████████████████| 656 kB 2.7 MB/s eta 0:00:01\n",
      "\u001b[?25hRequirement already satisfied: pillow in /home/guillaume/miniconda3/envs/omero/lib/python3.6/site-packages (from imageio>=2.3.0->aicsimageio) (7.2.0)\n",
      "Requirement already satisfied: pyyaml in /home/guillaume/miniconda3/envs/omero/lib/python3.6/site-packages (from dask>=2.9.0->aicsimageio) (5.3.1)\n",
      "Requirement already satisfied: scikit-image in /home/guillaume/miniconda3/envs/omero/lib/python3.6/site-packages (from aicspylibczi>=2.5.0->aicsimageio) (0.17.2)\n",
      "Collecting zict>=0.1.3\n",
      "  Downloading zict-2.0.0-py3-none-any.whl (10 kB)\n",
      "Requirement already satisfied: click>=6.6 in /home/guillaume/miniconda3/envs/omero/lib/python3.6/site-packages (from distributed>=2.9.3->aicsimageio) (7.1.2)\n",
      "Collecting tblib>=1.6.0\n",
      "  Downloading tblib-1.7.0-py2.py3-none-any.whl (12 kB)\n",
      "Collecting msgpack>=0.6.0\n",
      "  Downloading msgpack-1.0.0-cp36-cp36m-manylinux1_x86_64.whl (274 kB)\n",
      "\u001b[K     |████████████████████████████████| 274 kB 3.4 MB/s eta 0:00:01\n",
      "\u001b[?25hRequirement already satisfied: cloudpickle>=1.5.0 in /home/guillaume/miniconda3/envs/omero/lib/python3.6/site-packages (from distributed>=2.9.3->aicsimageio) (1.6.0)\n",
      "Requirement already satisfied: psutil>=5.0 in /home/guillaume/miniconda3/envs/omero/lib/python3.6/site-packages (from distributed>=2.9.3->aicsimageio) (5.7.0)\n",
      "Requirement already satisfied: tornado>=5; python_version < \"3.8\" in /home/guillaume/miniconda3/envs/omero/lib/python3.6/site-packages (from distributed>=2.9.3->aicsimageio) (6.0.4)\n",
      "Collecting contextvars; python_version < \"3.7\"\n",
      "  Downloading contextvars-2.4.tar.gz (9.6 kB)\n",
      "Collecting sortedcontainers!=2.0.0,!=2.0.1\n",
      "  Downloading sortedcontainers-2.2.2-py2.py3-none-any.whl (29 kB)\n",
      "Requirement already satisfied: setuptools in /home/guillaume/miniconda3/envs/omero/lib/python3.6/site-packages (from distributed>=2.9.3->aicsimageio) (49.6.0.post20200814)\n",
      "Requirement already satisfied: scipy>=1.0.1 in /home/guillaume/miniconda3/envs/omero/lib/python3.6/site-packages (from scikit-image->aicspylibczi>=2.5.0->aicsimageio) (1.5.2)\n",
      "Requirement already satisfied: matplotlib!=3.0.0,>=2.0.0 in /home/guillaume/miniconda3/envs/omero/lib/python3.6/site-packages (from scikit-image->aicspylibczi>=2.5.0->aicsimageio) (3.3.1)\n",
      "Requirement already satisfied: networkx>=2.0 in /home/guillaume/miniconda3/envs/omero/lib/python3.6/site-packages (from scikit-image->aicspylibczi>=2.5.0->aicsimageio) (2.5)\n",
      "Requirement already satisfied: PyWavelets>=1.1.1 in /home/guillaume/miniconda3/envs/omero/lib/python3.6/site-packages (from scikit-image->aicspylibczi>=2.5.0->aicsimageio) (1.1.1)\n",
      "Requirement already satisfied: heapdict in /home/guillaume/miniconda3/envs/omero/lib/python3.6/site-packages (from zict>=0.1.3->distributed>=2.9.3->aicsimageio) (1.0.1)\n",
      "Collecting immutables>=0.9\n",
      "  Downloading immutables-0.14-cp36-cp36m-manylinux1_x86_64.whl (98 kB)\n",
      "\u001b[K     |████████████████████████████████| 98 kB 2.9 MB/s eta 0:00:011\n",
      "\u001b[?25hRequirement already satisfied: pyparsing!=2.0.4,!=2.1.2,!=2.1.6,>=2.0.3 in /home/guillaume/miniconda3/envs/omero/lib/python3.6/site-packages (from matplotlib!=3.0.0,>=2.0.0->scikit-image->aicspylibczi>=2.5.0->aicsimageio) (2.4.7)\n",
      "Requirement already satisfied: certifi>=2020.06.20 in /home/guillaume/miniconda3/envs/omero/lib/python3.6/site-packages (from matplotlib!=3.0.0,>=2.0.0->scikit-image->aicspylibczi>=2.5.0->aicsimageio) (2020.6.20)\n",
      "Requirement already satisfied: kiwisolver>=1.0.1 in /home/guillaume/miniconda3/envs/omero/lib/python3.6/site-packages (from matplotlib!=3.0.0,>=2.0.0->scikit-image->aicspylibczi>=2.5.0->aicsimageio) (1.2.0)\n",
      "Requirement already satisfied: python-dateutil>=2.1 in /home/guillaume/miniconda3/envs/omero/lib/python3.6/site-packages (from matplotlib!=3.0.0,>=2.0.0->scikit-image->aicspylibczi>=2.5.0->aicsimageio) (2.8.1)\n",
      "Requirement already satisfied: cycler>=0.10 in /home/guillaume/miniconda3/envs/omero/lib/python3.6/site-packages (from matplotlib!=3.0.0,>=2.0.0->scikit-image->aicspylibczi>=2.5.0->aicsimageio) (0.10.0)\n",
      "Requirement already satisfied: decorator>=4.3.0 in /home/guillaume/miniconda3/envs/omero/lib/python3.6/site-packages (from networkx>=2.0->scikit-image->aicspylibczi>=2.5.0->aicsimageio) (4.4.2)\n",
      "Requirement already satisfied: six>=1.5 in /home/guillaume/miniconda3/envs/omero/lib/python3.6/site-packages (from python-dateutil>=2.1->matplotlib!=3.0.0,>=2.0.0->scikit-image->aicspylibczi>=2.5.0->aicsimageio) (1.15.0)\n",
      "Building wheels for collected packages: contextvars\n",
      "  Building wheel for contextvars (setup.py) ... \u001b[?25ldone\n",
      "\u001b[?25h  Created wheel for contextvars: filename=contextvars-2.4-py3-none-any.whl size=7665 sha256=588e354f82542ee48d7367fba90df10971bd2ca0cbd44f5e893fa0198aa079a1\n",
      "  Stored in directory: /home/guillaume/.cache/pip/wheels/41/11/53/911724983aa48deb94792432e14e518447212dd6c5477d49d3\n",
      "Successfully built contextvars\n",
      "Installing collected packages: readlif, lxml, aicspylibczi, zict, tblib, msgpack, immutables, contextvars, sortedcontainers, distributed, aicsimageio\n",
      "Successfully installed aicsimageio-3.3.1 aicspylibczi-2.6.0 contextvars-2.4 distributed-2.30.0 immutables-0.14 lxml-4.5.2 msgpack-1.0.0 readlif-0.2.1 sortedcontainers-2.2.2 tblib-1.7.0 zict-2.0.0\n"
     ]
    }
   ],
   "source": [
    "!pip install  aicsimageio\n"
   ]
  },
  {
   "cell_type": "code",
   "execution_count": 2,
   "metadata": {},
   "outputs": [
    {
     "name": "stdout",
     "output_type": "stream",
     "text": [
      "--2020-10-16 14:52:30--  https://downloads.openmicroscopy.org/images/OME-TIFF/2016-06/tubhiswt-4D/tubhiswt_C1_TP42.ome.tif\n",
      "Résolution de downloads.openmicroscopy.org (downloads.openmicroscopy.org)… 134.36.65.239\n",
      "Connexion à downloads.openmicroscopy.org (downloads.openmicroscopy.org)|134.36.65.239|:443… connecté.\n",
      "requête HTTP transmise, en attente de la réponse… 200 OK\n",
      "Taille : 2846357 (2,7M) [image/tiff]\n",
      "Enregistre : «tubhiswt_C1_TP42.ome.tif»\n",
      "\n",
      "tubhiswt_C1_TP42.om 100%[===================>]   2,71M  2,01MB/s    ds 1,4s    \n",
      "\n",
      "2020-10-16 14:52:32 (2,01 MB/s) - «tubhiswt_C1_TP42.ome.tif» enregistré [2846357/2846357]\n",
      "\n"
     ]
    }
   ],
   "source": [
    "!wget https://downloads.openmicroscopy.org/images/OME-TIFF/2016-06/tubhiswt-4D/tubhiswt_C1_TP42.ome.tif\n",
    "\n"
   ]
  },
  {
   "cell_type": "code",
   "execution_count": 3,
   "metadata": {},
   "outputs": [
    {
     "name": "stdout",
     "output_type": "stream",
     "text": [
      "'BioImage Databases M2CMB.ipynb'   practical.md   \u001b[0m\u001b[01;35mtubhiswt_C1_TP42.ome.tif\u001b[0m\r\n"
     ]
    }
   ],
   "source": [
    "ls"
   ]
  },
  {
   "cell_type": "code",
   "execution_count": 4,
   "metadata": {},
   "outputs": [],
   "source": [
    "from aicsimageio import imread\n",
    "\n"
   ]
  },
  {
   "cell_type": "code",
   "execution_count": null,
   "metadata": {},
   "outputs": [],
   "source": [
    "data = imread()"
   ]
  },
  {
   "cell_type": "markdown",
   "metadata": {},
   "source": [
    "# Omero\n",
    "\n",
    "> Learn to read the documentation!\n",
    "\n",
    "https://docs.openmicroscopy.org/omero/5.6.3/index.html\n",
    "\n",
    "https://docs.openmicroscopy.org/omero/5.6.3/developers/Python.html\n",
    "\n",
    "## Install omero\n",
    "\n",
    "```\n",
    "conda install -c ome omero\n",
    "```\n",
    "\n",
    "\n",
    "## Log in the web client\n",
    "\n",
    "- Open data\n",
    "- Find The x resolution\n",
    "- Open the 3D viewer\n",
    "\n",
    "a\n",
    "## Annotate and browse\n",
    "\n",
    "- setup project / dataset\n",
    "\n",
    "- Add a tag and a comment\n",
    "\n",
    "- Search for DAPI images\n",
    "\n",
    "\n",
    "\n"
   ]
  },
  {
   "cell_type": "markdown",
   "metadata": {},
   "source": [
    "\n",
    "## OMERO API\n",
    "\n",
    "- connect to OMERO\n",
    "\n",
    "- Download data\n",
    "\n",
    "- Read metadata\n"
   ]
  },
  {
   "cell_type": "code",
   "execution_count": null,
   "metadata": {},
   "outputs": [],
   "source": []
  },
  {
   "cell_type": "markdown",
   "metadata": {},
   "source": [
    "\n",
    "## An example of automated workflow\n",
    "\n",
    "Loop over all images in the dataset, compute average intensity per plane.\n"
   ]
  },
  {
   "cell_type": "code",
   "execution_count": null,
   "metadata": {},
   "outputs": [],
   "source": []
  },
  {
   "cell_type": "markdown",
   "metadata": {},
   "source": [
    "# The IDR\n",
    "\n",
    "\n",
    "## Remember FAIR?\n",
    "\n",
    "- Findable\n",
    "- Accessible\n",
    "- Interoperable\n",
    "- Reusable\n",
    "\n",
    "\n",
    "## Submission process\n",
    "\n",
    "- Describe the important points\n",
    "\n",
    "\n",
    "-----------------------------\n",
    "\n",
    "\n",
    "\n"
   ]
  },
  {
   "cell_type": "markdown",
   "metadata": {},
   "source": [
    "## IDR public API\n",
    "\n",
    "### From this article, find the original data in IDR (1/5)\n",
    "\n",
    "https://elifesciences.org/articles/55913\n",
    "\n"
   ]
  },
  {
   "cell_type": "markdown",
   "metadata": {},
   "source": [
    "### Write a code that connects to IDR (2/5) \n"
   ]
  },
  {
   "cell_type": "code",
   "execution_count": null,
   "metadata": {},
   "outputs": [],
   "source": []
  },
  {
   "cell_type": "markdown",
   "metadata": {},
   "source": [
    "### and reads metadata from one of the above datasets (2/5)\n"
   ]
  },
  {
   "cell_type": "code",
   "execution_count": null,
   "metadata": {},
   "outputs": [],
   "source": []
  },
  {
   "cell_type": "markdown",
   "metadata": {},
   "source": [
    "### If we have time, use napari (or the new ipygani) to display the data"
   ]
  },
  {
   "cell_type": "code",
   "execution_count": null,
   "metadata": {},
   "outputs": [],
   "source": []
  },
  {
   "cell_type": "code",
   "execution_count": null,
   "metadata": {},
   "outputs": [],
   "source": []
  }
 ],
 "metadata": {
  "kernelspec": {
   "display_name": "Python 3",
   "language": "python",
   "name": "python3"
  },
  "language_info": {
   "codemirror_mode": {
    "name": "ipython",
    "version": 3
   },
   "file_extension": ".py",
   "mimetype": "text/x-python",
   "name": "python",
   "nbconvert_exporter": "python",
   "pygments_lexer": "ipython3",
   "version": "3.7.6"
  }
 },
 "nbformat": 4,
 "nbformat_minor": 4
}
