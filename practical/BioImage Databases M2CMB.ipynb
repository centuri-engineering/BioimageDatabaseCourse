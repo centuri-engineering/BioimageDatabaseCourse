{
 "cells": [
  {
   "cell_type": "markdown",
   "metadata": {},
   "source": [
    "\n",
    "\n",
    "\n",
    "# The TIFF file format\n",
    "\n",
    "\n",
    "## Create a tiff in Python with `imageio`\n",
    "\n",
    "- Create an array\n",
    "- Use different data types\n",
    "\n",
    "\n"
   ]
  },
  {
   "cell_type": "code",
   "execution_count": null,
   "metadata": {},
   "outputs": [],
   "source": []
  },
  {
   "cell_type": "markdown",
   "metadata": {},
   "source": [
    "## Open a tiff with `scikit-image`\n",
    "\n",
    "- Re-open the previous tiffs with skimage\n",
    "\n",
    "\n"
   ]
  },
  {
   "cell_type": "code",
   "execution_count": null,
   "metadata": {},
   "outputs": [],
   "source": []
  },
  {
   "cell_type": "markdown",
   "metadata": {},
   "source": [
    "## Open an ome.tiff with `aicsimageio`\n",
    "\n",
    "```bash\n",
    "wget https://downloads.openmicroscopy.org/images/OME-TIFF/2016-06/tubhiswt-4D/tubhiswt_C1_TP42.ome.tif\n",
    "\n",
    "```\n",
    "\n",
    "\n",
    "### Read metadata\n",
    "\n",
    "\n",
    "\n",
    "\n"
   ]
  },
  {
   "cell_type": "code",
   "execution_count": null,
   "metadata": {},
   "outputs": [],
   "source": []
  },
  {
   "cell_type": "markdown",
   "metadata": {},
   "source": [
    "# Omero\n",
    "\n",
    "> Learn to read the documentation!\n",
    "\n",
    "https://docs.openmicroscopy.org/omero/5.6.3/index.html\n",
    "\n",
    "https://docs.openmicroscopy.org/omero/5.6.3/developers/Python.html\n",
    "\n",
    "## Install omero\n",
    "\n",
    "```\n",
    "conda install -c ome omero\n",
    "```\n",
    "\n",
    "\n",
    "## Log in the web client\n",
    "\n",
    "- Open data\n",
    "- Find The x resolution\n",
    "- Open the 3D viewer\n",
    "\n",
    "\n",
    "## Annotate and browse\n",
    "\n",
    "- setup project / dataset\n",
    "\n",
    "- Add a tag and a comment\n",
    "\n",
    "- Search for DAPI images\n",
    "\n",
    "\n",
    "\n"
   ]
  },
  {
   "cell_type": "markdown",
   "metadata": {},
   "source": [
    "\n",
    "## OMERO API\n",
    "\n",
    "- connect to OMERO\n",
    "\n",
    "- Download data\n",
    "\n",
    "- Read metadata\n"
   ]
  },
  {
   "cell_type": "code",
   "execution_count": null,
   "metadata": {},
   "outputs": [],
   "source": []
  },
  {
   "cell_type": "markdown",
   "metadata": {},
   "source": [
    "\n",
    "## An example of automated workflow\n",
    "\n",
    "Loop over all images in the dataset, compute average intensity per plane.\n"
   ]
  },
  {
   "cell_type": "code",
   "execution_count": null,
   "metadata": {},
   "outputs": [],
   "source": []
  },
  {
   "cell_type": "markdown",
   "metadata": {},
   "source": [
    "# The IDR\n",
    "\n",
    "\n",
    "## Remember FAIR?\n",
    "\n",
    "- Findable\n",
    "- Accessible\n",
    "- Interoperable\n",
    "- Reusable\n",
    "\n",
    "\n",
    "## Submission process\n",
    "\n",
    "- Describe the important points\n",
    "\n",
    "\n",
    "-----------------------------\n",
    "\n",
    "\n",
    "\n"
   ]
  },
  {
   "cell_type": "markdown",
   "metadata": {},
   "source": [
    "## IDR public API\n",
    "\n",
    "### From this article, find the original data in IDR (1/5)\n",
    "\n",
    "https://elifesciences.org/articles/55913\n",
    "\n"
   ]
  },
  {
   "cell_type": "markdown",
   "metadata": {},
   "source": [
    "### Write a code that connects to IDR (2/5) \n"
   ]
  },
  {
   "cell_type": "code",
   "execution_count": null,
   "metadata": {},
   "outputs": [],
   "source": []
  },
  {
   "cell_type": "markdown",
   "metadata": {},
   "source": [
    "### and reads metadata from one of the above datasets (2/5)\n"
   ]
  },
  {
   "cell_type": "code",
   "execution_count": null,
   "metadata": {},
   "outputs": [],
   "source": []
  },
  {
   "cell_type": "markdown",
   "metadata": {},
   "source": [
    "### If we have time, use napari (or the new ipygani) to display the data"
   ]
  },
  {
   "cell_type": "code",
   "execution_count": null,
   "metadata": {},
   "outputs": [],
   "source": []
  },
  {
   "cell_type": "code",
   "execution_count": null,
   "metadata": {},
   "outputs": [],
   "source": []
  }
 ],
 "metadata": {
  "kernelspec": {
   "display_name": "Python 3",
   "language": "python",
   "name": "python3"
  },
  "language_info": {
   "codemirror_mode": {
    "name": "ipython",
    "version": 3
   },
   "file_extension": ".py",
   "mimetype": "text/x-python",
   "name": "python",
   "nbconvert_exporter": "python",
   "pygments_lexer": "ipython3",
   "version": "3.6.11"
  }
 },
 "nbformat": 4,
 "nbformat_minor": 4
}
